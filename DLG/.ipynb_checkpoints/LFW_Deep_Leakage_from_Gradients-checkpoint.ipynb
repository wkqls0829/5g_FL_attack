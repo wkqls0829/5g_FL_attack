{
 "cells": [
  {
   "cell_type": "code",
   "execution_count": 1,
   "metadata": {
    "colab": {
     "base_uri": "https://localhost:8080/",
     "height": 34
    },
    "colab_type": "code",
    "id": "NWa7Xo6PkIl3",
    "outputId": "b186c3b3-e0cf-423c-922c-94e64702f818"
   },
   "outputs": [
    {
     "name": "stdout",
     "output_type": "stream",
     "text": [
      "1.12.1+cu113 0.13.1+cu113\n"
     ]
    },
    {
     "name": "stderr",
     "output_type": "stream",
     "text": [
      "/home/kjb/.conda/envs/lora/lib/python3.9/site-packages/tqdm/auto.py:21: TqdmWarning: IProgress not found. Please update jupyter and ipywidgets. See https://ipywidgets.readthedocs.io/en/stable/user_install.html\n",
      "  from .autonotebook import tqdm as notebook_tqdm\n"
     ]
    }
   ],
   "source": [
    "%matplotlib inline\n",
    "\n",
    "import numpy as np\n",
    "from pprint import pprint\n",
    "\n",
    "from PIL import Image\n",
    "import matplotlib.pyplot as plt\n",
    "\n",
    "import torch\n",
    "import torch.nn as nn\n",
    "import torch.nn.functional as F\n",
    "from torch.autograd import grad\n",
    "import torchvision\n",
    "from torchvision import models, datasets, transforms\n",
    "import torch.nn.functional as func\n",
    "#torch.manual_seed(50)\n",
    "\n",
    "#import os\n",
    "#os.environ[\"CUDA_VISIBLE_DEVICES\"] = \"1\"\n",
    "\n",
    "\n",
    "print(torch.__version__, torchvision.__version__)"
   ]
  },
  {
   "cell_type": "code",
   "execution_count": 2,
   "metadata": {
    "colab": {
     "base_uri": "https://localhost:8080/",
     "height": 51
    },
    "colab_type": "code",
    "id": "VjKWqs2akepH",
    "outputId": "586bcc5a-f4ea-46ce-b510-edbb20f603ef"
   },
   "outputs": [
    {
     "name": "stdout",
     "output_type": "stream",
     "text": [
      "Running on cpu\n"
     ]
    }
   ],
   "source": [
    "# dst = datasets.CIFAR100(\"~/.torch\", download=True)\n",
    "# dst = datasets.MNIST(\"~/.torch\", download=True)\n",
    "\n",
    "tp = transforms.Compose([\n",
    "    transforms.Resize(32),\n",
    "    transforms.CenterCrop(32),\n",
    "    transforms.ToTensor()\n",
    "])\n",
    "tt = transforms.ToPILImage()\n",
    "\n",
    "device = \"cpu\"\n",
    "# if torch.cuda.is_available():\n",
    "#     device = \"cuda\"\n",
    "print(\"Running on %s\" % device)\n",
    "\n",
    "def label_to_onehot(target, num_classes=10):\n",
    "    target = torch.unsqueeze(target, 1)\n",
    "    onehot_target = torch.zeros(target.size(0), num_classes, device=target.device)\n",
    "    onehot_target.scatter_(1, target, 1)\n",
    "    return onehot_target\n",
    "\n",
    "def cross_entropy_for_onehot(pred, target):\n",
    "    return torch.mean(torch.sum(- target * F.log_softmax(pred, dim=-1), 1))"
   ]
  },
  {
   "cell_type": "code",
   "execution_count": 3,
   "metadata": {
    "colab": {},
    "colab_type": "code",
    "id": "AorI020iVjjS"
   },
   "outputs": [],
   "source": [
    "# def weights_init(m):\n",
    "#     if hasattr(m, \"weight\"):\n",
    "#         m.weight.data.uniform_(-0.5, 0.5)\n",
    "#         nn.init.xavier_uniform_(m.weight.data)\n",
    "#     if hasattr(m, \"bias\"):\n",
    "#         #m.bias.data.uniform_(-0.5, 0.5)\n",
    "#         #nn.init.xavier_uniform(m.bias.data)\n",
    "#         m.bias.data.fill_(0)\n",
    "\n",
    "\n",
    "\n",
    "# class LeNet(nn.Module):\n",
    "\n",
    "#     def __init__(self):\n",
    "\n",
    "#         super(LeNet, self).__init__()\n",
    "#         self.conv1 = nn.Conv2d(3, 6, kernel_size=5,stride=2)\n",
    "#         self.conv2 = nn.Conv2d(6, 16, kernel_size=5, stride=2)\n",
    "#         self.fc1 = nn.Linear(16*5*5, 256)\n",
    "#         self.fc2 = nn.Linear(256, 120)\n",
    "#         self.fc3 = nn.Linear(120, 106)\n",
    "\n",
    "#     def forward(self, x):\n",
    "#         #x = func.relu(self.conv1(x))\n",
    "#         x = func.sigmoid(self.conv1(x))\n",
    "#         #x = func.max_pool2d(x, 2)\n",
    "#         #x = func.relu(self.conv2(x))\n",
    "#         x = func.sigmoid(self.conv2(x))\n",
    "#         #x = func.max_pool2d(x, 2)\n",
    "#         x = x.view(x.size(0), -1)\n",
    "#         #x = func.relu(self.fc1(x))\n",
    "#         x = func.sigmoid(self.fc1(x))\n",
    "#         #x = func.relu(self.fc2(x))\n",
    "#         x = func.sigmoid(self.fc2(x))\n",
    "#         x = self.fc3(x)\n",
    "#         return x\n",
    "\n",
    "    \n",
    "    \n",
    "# def weights_init(m):\n",
    "#     if hasattr(m, \"weight\"):\n",
    "#         m.weight.data.uniform_(-0.3, 0.3)\n",
    "#     if hasattr(m, \"bias\"):\n",
    "#         m.bias.data.uniform_(-0.3, 0.3)\n",
    "\n",
    "\n",
    "def weights_init(m):\n",
    "    if hasattr(m, \"weight\"):\n",
    "        m.weight.data.uniform_(-0.5, 0.5)\n",
    "    if hasattr(m, \"bias\"):\n",
    "        m.bias.data.uniform_(-0.5, 0.5)\n",
    "\n",
    "\n",
    "class LeNet(nn.Module):\n",
    "    def __init__(self):\n",
    "        super(LeNet, self).__init__()\n",
    "        act = nn.Sigmoid\n",
    "        self.body = nn.Sequential(\n",
    "            nn.Conv2d(3, 12, kernel_size=5, padding=5//2, stride=2),\n",
    "            act(),\n",
    "            nn.Conv2d(12, 12, kernel_size=5, padding=5//2, stride=2),\n",
    "            act(),\n",
    "            nn.Conv2d(12, 12, kernel_size=5, padding=5//2, stride=1),\n",
    "            act(),\n",
    "            nn.Conv2d(12, 12, kernel_size=5, padding=5//2, stride=1),\n",
    "            act(),\n",
    "        )\n",
    "        self.fc = nn.Sequential(\n",
    "            nn.Linear(768, 106)\n",
    "        )\n",
    "        \n",
    "    def forward(self, x):\n",
    "        out = self.body(x)\n",
    "        out = out.view(out.size(0), -1)\n",
    "        # print(out.size())\n",
    "        out = self.fc(out)\n",
    "        return out\n",
    "\n",
    "\n",
    "net = LeNet().to(device)\n",
    "net.apply(weights_init)\n",
    "\n",
    "criterion = cross_entropy_for_onehot"
   ]
  },
  {
   "cell_type": "code",
   "execution_count": 4,
   "metadata": {
    "colab": {},
    "colab_type": "code",
    "id": "AorI020iVjjS"
   },
   "outputs": [
    {
     "name": "stdout",
     "output_type": "stream",
     "text": [
      "(2801, 32, 32, 3)\n",
      "(934, 32, 32, 3)\n",
      "fininshed training\n",
      "0.008565310492505354\n",
      "fininshed testing\n"
     ]
    }
   ],
   "source": [
    "import torchvision.transforms as transforms\n",
    "import torch.optim as optim\n",
    "from torch.autograd import Variable\n",
    "from torch.utils import data\n",
    "\n",
    "from sklearn.datasets import fetch_lfw_people\n",
    "from sklearn.model_selection import train_test_split\n",
    "lfw_people=fetch_lfw_people(min_faces_per_person=14,color=True,slice_=(slice(61,189),slice(61,189)),resize=0.25)\n",
    "x=lfw_people.images\n",
    "y=lfw_people.target\n",
    "\n",
    "target_names=lfw_people.target_names\n",
    "n_classes=target_names.shape[0]\n",
    "\n",
    "X_train, X_test, y_train, y_test = train_test_split(x, y, test_size=0.25,shuffle=False)\n",
    "\n",
    "\n",
    "# #two people\n",
    "# X_train_two = []\n",
    "# y_train_two = []\n",
    "# X_test_two = []\n",
    "# y_test_two = []\n",
    "# for ct_d in range(X_train.shape[0]):\n",
    "#     if  y_train[ct_d] == 6:\n",
    "#         X_train_two.append(X_train[ct_d])\n",
    "#         y_train_two.append(0)\n",
    "#     if  y_train[ct_d] == 9:\n",
    "#         X_train_two.append(X_train[ct_d])\n",
    "#         y_train_two.append(1)\n",
    "        \n",
    "# for ct_d in range(X_test.shape[0]):\n",
    "#     if  y_train[ct_d] == 6:        \n",
    "#         X_test_two.append(X_test[ct_d])\n",
    "#         y_test_two.append(0)\n",
    "#     if  y_train[ct_d] == 9:\n",
    "#         X_test_two.append(X_test[ct_d])\n",
    "#         y_test_two.append(1)\n",
    "        \n",
    "# X_train = np.asarray(X_train_two)    \n",
    "# X_test = np.asarray(X_test_two)  \n",
    "# y_train = np.asarray(y_train_two)  \n",
    "# y_test = np.asarray(y_test_two)  \n",
    "\n",
    "print (X_train.shape)\n",
    "print (X_test.shape)\n",
    "\n",
    "         \n",
    "X_train = X_train.reshape(X_train.shape[0], 32, 32, 3)\n",
    "X_test = X_test.reshape(X_test.shape[0], 32, 32, 3)\n",
    "#X_train = torch.transpose\n",
    "#X_train = X_train.astype('float32')\n",
    "X_train /= 255.0\n",
    "X_test /= 255.0\n",
    "\n",
    " \n",
    "\n",
    "\n",
    "x_train = torch.FloatTensor(X_train).to(device)\n",
    "x_train = x_train.transpose(2,3).transpose(1,2)\n",
    "y_train = torch.LongTensor(y_train).to(device)\n",
    "\n",
    "x_test = torch.FloatTensor(X_test).to(device)\n",
    "x_test = x_test.transpose(2,3).transpose(1,2)\n",
    "y_test = torch.LongTensor(y_test).to(device)\n",
    "\n",
    "\n",
    "training = data.TensorDataset(x_train,y_train)\n",
    "\n",
    "testing = data.TensorDataset(x_test,y_test)\n",
    "\n",
    "dst_tensor=training\n",
    "\n",
    "criterion_train = nn.CrossEntropyLoss()\n",
    "optimizer_train = optim.Adam(net.parameters(),lr=0.01)#,momentum=0.9)\n",
    "trainloader = torch.utils.data.DataLoader(training,batch_size=64, shuffle=True)\n",
    "\n",
    "iter_ = 0\n",
    "for epoch in range(0):\n",
    "\n",
    "    for i,data in enumerate(trainloader,0):\n",
    "   \n",
    "        #if epoch>=1:\n",
    "        if i>=2:\n",
    "            break\n",
    "        iter_=iter_+1\n",
    "        #print (iter_)\n",
    "        inputs,label = data\n",
    "        \n",
    "        inputs,label =  Variable(inputs),Variable(label) \n",
    "      \n",
    "        optimizer_train.zero_grad()\n",
    "        \n",
    "    \n",
    "        outputs_benign=net(inputs)\n",
    "        #outputs_benign = F.softmax(outputs_benign, dim=-1)\n",
    "        #print (outputs_benign[0])\n",
    "     \n",
    "        loss_benign =  criterion_train(outputs_benign,label)\n",
    "       \n",
    "        #print(\"loss computed\")\n",
    "        loss_benign.backward()\n",
    "        #print(\"loss BP\")\n",
    "        optimizer_train.step()\n",
    "        \n",
    "        #if i%2000==0:\n",
    "        print (loss_benign.item())\n",
    "        #torch.save(net.state_dict(),'./LFW_net.pth')  \n",
    "       \n",
    "  \n",
    "print ('fininshed training')\n",
    "total = len(y_test)\n",
    "acc =0.0\n",
    "for ct in range(total):\n",
    "    testing_data = tt(testing[ct][0].cpu())\n",
    "    testing_data1 = tp(testing_data).to(device)\n",
    "    testing_data2 = testing_data1.view(1, *testing_data1.size())\n",
    "    y_pred = net(testing_data2)\n",
    "    predicted = torch.argmax(y_pred)\n",
    "  \n",
    "    if predicted == y_test[ct]:\n",
    "        acc=acc+1\n",
    "accuracy = acc / total\n",
    "print (accuracy)\n",
    "print ('fininshed testing')"
   ]
  },
  {
   "cell_type": "code",
   "execution_count": 5,
   "metadata": {
    "colab": {
     "base_uri": "https://localhost:8080/",
     "height": 315
    },
    "colab_type": "code",
    "id": "8mSgR4GClV-8",
    "outputId": "94e70867-055e-4558-be7a-0b9feaa9b339"
   },
   "outputs": [
    {
     "name": "stdout",
     "output_type": "stream",
     "text": [
      "torch.Size([1, 3, 32, 32])\n",
      "GT label is 63. \n",
      "Onehot label is 63.\n"
     ]
    },
    {
     "data": {
      "image/png": "[encoded data removed]",
      "text/plain": [
       "<Figure size 640x480 with 1 Axes>"
      ]
     },
     "metadata": {},
     "output_type": "display_data"
    }
   ],
   "source": [
    "\n",
    "\n",
    "######### honest partipant #########\n",
    "img_index = 72   #use img_index\n",
    "dst_pil = tt(dst_tensor[img_index][0].cpu())   #use img_index\n",
    "\n",
    "gt_data = tp(dst_pil).to(device)\n",
    "gt_data = torch.unsqueeze(gt_data,0)\n",
    "\n",
    "batch = 1  #\n",
    "for bat in range(batch-1):\n",
    "    dst_pil = tt(dst_tensor[img_index+1+bat][0].cpu())   #use img_index\n",
    "    tmp = torch.unsqueeze(tp(dst_pil).to(device),0)\n",
    "    print(tmp.shape)\n",
    "    gt_data = torch.cat((gt_data,tmp),0)\n",
    "\n",
    "\n",
    "print (gt_data.shape)\n",
    "#gt_data = gt_data.view(1, *gt_data.size())\n",
    "#gt_label = torch.Tensor([dst_pil[img_index][1]]).long().to(device)  #use img_index\n",
    "gt_label = dst_tensor[img_index][1].long().to(device) #use img_index\n",
    "gt_label = gt_label.view(1, )\n",
    "gt_onehot_label = label_to_onehot(gt_label, num_classes=106)\n",
    "\n",
    "\n",
    "\n",
    "plt.imshow(dst_pil)\n",
    "#plt.savefig(\"./attack_image/original\")\n",
    "\n",
    "plt.title(\"Ground truth image\")\n",
    "print(\"GT label is %d.\" % gt_label.item(), \"\\nOnehot label is %d.\" % torch.argmax(gt_onehot_label, dim=-1).item())\n",
    "\n",
    "# compute original gradient \n",
    "out = net(gt_data)\n",
    "y = criterion(out, gt_onehot_label)\n",
    "dy_dx = torch.autograd.grad(y, net.parameters())\n",
    "\n",
    "\n",
    "# share the gradients with other clients\n",
    "original_dy_dx = list((_.detach().clone() for _ in dy_dx))"
   ]
  },
  {
   "cell_type": "code",
   "execution_count": 6,
   "metadata": {
    "colab": {
     "base_uri": "https://localhost:8080/",
     "height": 298
    },
    "colab_type": "code",
    "id": "jWIbBjVPVLeq",
    "outputId": "4f24add4-1cbd-40a9-ba8d-70fefd9e1590"
   },
   "outputs": [
    {
     "name": "stdout",
     "output_type": "stream",
     "text": [
      "Dummy label is 92.\n"
     ]
    },
    {
     "data": {
      "image/png": "[encoded data removed]",
      "text/plain": [
       "<Figure size 640x480 with 1 Axes>"
      ]
     },
     "metadata": {},
     "output_type": "display_data"
    }
   ],
   "source": [
    "# generate dummy data and label\n",
    "torch.manual_seed(1000)\n",
    "dummy_data = torch.randn(gt_data.size()).to(device).requires_grad_(True)\n",
    "dummy_label = torch.randn(gt_onehot_label.size()).to(device).requires_grad_(True)\n",
    "\n",
    "#aaa = torch.rand([3,16,16])\n",
    "#bbb = torch.cat((aaa,aaa),dim=1)\n",
    "#ccc = torch.cat((bbb,bbb),dim=2)\n",
    "#dummy_data = torch.unsqueeze(ccc,dim=0).to(device).requires_grad_(True)\n",
    "\n",
    "\n",
    "plt.imshow(tt(dummy_data[0].cpu()))\n",
    "plt.title(\"Dummy data\")\n",
    "print(\"Dummy label is %d.\" % torch.argmax(dummy_label, dim=-1).item())\n",
    "\n"
   ]
  },
  {
   "cell_type": "code",
   "execution_count": null,
   "metadata": {
    "colab": {
     "base_uri": "https://localhost:8080/",
     "height": 527
    },
    "colab_type": "code",
    "id": "NZNuuwTFlYr0",
    "outputId": "52e642e4-79bd-46c7-f995-25e19ab92737",
    "scrolled": false
   },
   "outputs": [
    {
     "name": "stdout",
     "output_type": "stream",
     "text": [
      "14.68177032\n",
      "1.93621540\n",
      "0.63100839\n",
      "0.20046760\n",
      "0.07006162\n",
      "0.02591615\n",
      "0.01109367\n",
      "0.00526060\n",
      "0.00259830\n",
      "0.00139692\n",
      "0.00077326\n"
     ]
    }
   ],
   "source": [
    "from pytorch_msssim import ssim\n",
    "\n",
    "optimizer = torch.optim.LBFGS([dummy_data, dummy_label] )\n",
    "\n",
    "history = []\n",
    "history_batch = []\n",
    "\n",
    "percept_dis = np.zeros(300)\n",
    "recover_dis = np.zeros(300)\n",
    "for iters in range(300):\n",
    "    \n",
    "    plt.imshow(tt(dummy_data[0].cpu()))\n",
    "    plt.title(\"iter=%d\" % (iters))\n",
    "    plt.axis('off')\n",
    "    \n",
    "    percept_dis[iters]=ssim(dummy_data.cpu(),gt_data,data_range=0).item()\n",
    "    recover_dis[iters]=torch.dist(dummy_data.cpu(),gt_data,2).item()\n",
    "    \n",
    "        \n",
    "    #print(\"Dummy label is %d.\" % torch.argmax(dummy_label, dim=-1).item())\n",
    "    #plt.savefig(\"./attack_image/gif_iters_%s_label_%s\"%(iters,torch.argmax(dummy_label, dim=-1).item()))\n",
    "    #plt.clf()\n",
    "    \n",
    "    \n",
    "    def closure():\n",
    "        optimizer.zero_grad()\n",
    "\n",
    "        pred = net(dummy_data) \n",
    "        dummy_onehot_label = F.softmax(dummy_label, dim=-1)\n",
    "        \n",
    "        #print (pred.shape)\n",
    "        #print (dummy_onehot_label)\n",
    "        dummy_loss = criterion(pred, dummy_onehot_label) # TODO: fix the gt_label to dummy_label in both code and slides.\n",
    "        dummy_dy_dx = torch.autograd.grad(dummy_loss, net.parameters(), create_graph=True)\n",
    "        dummy_dy_dp = torch.autograd.grad(dummy_loss, dummy_data, create_graph=True)\n",
    "        #print (dummy_dy_dp[0].shape)\n",
    "        \n",
    "        grad_diff = 0\n",
    "        grad_count = 0\n",
    "        count =0\n",
    "        for gx, gy in zip(dummy_dy_dx, original_dy_dx): # TODO: fix the variablas here\n",
    "            grad_diff += ((gx - gy) ** 2).sum()\n",
    "            \n",
    "            \n",
    "            grad_count += gx.nelement()\n",
    "            \n",
    "            #if count == 9:\n",
    "            #    break\n",
    "            count=count+1\n",
    "        # grad_diff = grad_diff / grad_count * 1000\n",
    "        grad_diff.backward()\n",
    "        #print (count)\n",
    "        \n",
    "        #print (dummy_dy_dx)\n",
    "        #print (original_dy_dx)\n",
    "        \n",
    "        \n",
    "        return grad_diff\n",
    "    \n",
    "\n",
    "       \n",
    "    optimizer.step(closure)\n",
    "    if iters % 5 == 0: \n",
    "        current_loss = closure()\n",
    "        print (\"%.8f\" % current_loss.item())\n",
    "        #print(iters, \"%.8f\" % current_loss.item())\n",
    "    history.append(tt(dummy_data[0].cpu()))\n",
    "    \n",
    "   \n",
    "plt.figure(figsize=(12, 1.5))\n",
    "iter_idx = [0,20,40,60,80,100,120,140,160,180]\n",
    "for i in range(10):\n",
    "  plt.subplot(1, 10, i + 1)\n",
    "  plt.imshow(history[iter_idx[i]])\n",
    "  plt.title(\"iter=%d\" % (iter_idx[i]))\n",
    "  plt.axis('off')\n",
    "plt.savefig(\"./attack_image/random.png\")\n",
    "\n",
    "    \n",
    "    \n",
    "#np.savetxt('ssim_dlg.out',percept_dis,fmt=\"%4f\")\n",
    "#np.savetxt('mse_ours.out',recover_dis,fmt=\"%4f\")\n",
    "\n",
    "    \n",
    "#     for bat in range(batch-1):\n",
    "#         history_batch.append(tt(dummy_data[bat].cpu()))\n",
    "    "
   ]
  },
  {
   "cell_type": "code",
   "execution_count": null,
   "metadata": {
    "colab": {
     "base_uri": "https://localhost:8080/",
     "height": 428
    },
    "colab_type": "code",
    "id": "aokP-jhal96-",
    "outputId": "595e775a-7f91-49a8-cfaa-384c7a320002"
   },
   "outputs": [],
   "source": [
    "plt.figure(figsize=(12, 8))\n",
    "for i in range(60):\n",
    "  plt.subplot(6, 10, i + 1)\n",
    "  plt.imshow(history[i * 5])\n",
    "  plt.title(\"iter=%d\" % (i * 5))\n",
    "  plt.axis('off')\n",
    "print(\"Dummy label is %d.\" % torch.argmax(dummy_label, dim=-1).item())"
   ]
  },
  {
   "cell_type": "code",
   "execution_count": null,
   "metadata": {},
   "outputs": [],
   "source": [
    "plt.figure(figsize=(12, 8))\n",
    "for j in range(batch):\n",
    "    for i in range(60):\n",
    "      plt.subplot(6, 10, i + 1)\n",
    "      plt.imshow(history_batch[i * 5+j])\n",
    "      plt.title(\"iter=%d\" % (i * 5+ j))\n",
    "      plt.axis('off')\n",
    "print(\"Dummy label is %d.\" % torch.argmax(dummy_label, dim=-1).item())"
   ]
  },
  {
   "cell_type": "code",
   "execution_count": null,
   "metadata": {},
   "outputs": [],
   "source": []
  },
  {
   "cell_type": "code",
   "execution_count": null,
   "metadata": {},
   "outputs": [],
   "source": []
  }
 ],
 "metadata": {
  "accelerator": "GPU",
  "colab": {
   "collapsed_sections": [],
   "name": "Deep Leakage from Gradients.ipynb",
   "provenance": []
  },
  "kernelspec": {
   "display_name": "Python 3 (ipykernel)",
   "language": "python",
   "name": "python3"
  },
  "language_info": {
   "codemirror_mode": {
    "name": "ipython",
    "version": 3
   },
   "file_extension": ".py",
   "mimetype": "text/x-python",
   "name": "python",
   "nbconvert_exporter": "python",
   "pygments_lexer": "ipython3",
   "version": "3.9.19"
  }
 },
 "nbformat": 4,
 "nbformat_minor": 1
}
