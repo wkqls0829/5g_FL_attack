{
 "cells": [
  {
   "cell_type": "code",
   "execution_count": 1,
   "metadata": {
    "colab": {
     "base_uri": "https://localhost:8080/",
     "height": 34
    },
    "colab_type": "code",
    "id": "NWa7Xo6PkIl3",
    "outputId": "b186c3b3-e0cf-423c-922c-94e64702f818"
   },
   "outputs": [
    {
     "name": "stderr",
     "output_type": "stream",
     "text": [
      "/home/kjb/.conda/envs/lora/lib/python3.9/site-packages/tqdm/auto.py:21: TqdmWarning: IProgress not found. Please update jupyter and ipywidgets. See https://ipywidgets.readthedocs.io/en/stable/user_install.html\n",
      "  from .autonotebook import tqdm as notebook_tqdm\n"
     ]
    },
    {
     "name": "stdout",
     "output_type": "stream",
     "text": [
      "1.12.1+cu113 0.13.1+cu113\n"
     ]
    },
    {
     "data": {
      "text/plain": [
       "'NVIDIA RTX A5000'"
      ]
     },
     "execution_count": 1,
     "metadata": {},
     "output_type": "execute_result"
    }
   ],
   "source": [
    "%matplotlib inline\n",
    "\n",
    "import numpy as np\n",
    "from pprint import pprint\n",
    "\n",
    "from PIL import Image\n",
    "import matplotlib.pyplot as plt\n",
    "\n",
    "import torch\n",
    "import torch.nn as nn\n",
    "import torch.nn.functional as F\n",
    "from torch.autograd import grad\n",
    "import torchvision\n",
    "from torchvision import models, datasets, transforms\n",
    "import torch.nn.functional as func\n",
    "#torch.manual_seed(50)\n",
    "\n",
    "\n",
    "\n",
    "\n",
    "print(torch.__version__, torchvision.__version__)\n",
    "torch.cuda.get_device_name(0)"
   ]
  },
  {
   "cell_type": "code",
   "execution_count": 2,
   "metadata": {},
   "outputs": [
    {
     "name": "stdout",
     "output_type": "stream",
     "text": [
      "Running on cuda:0\n"
     ]
    }
   ],
   "source": [
    "# dst = datasets.CIFAR100(\"~/.torch\", download=True)\n",
    "# dst = datasets.MNIST(\"~/.torch\", download=True)\n",
    "\n",
    "tp = transforms.Compose([\n",
    "    transforms.Resize(64),\n",
    "    transforms.CenterCrop(64),\n",
    "    transforms.ToTensor()\n",
    "])\n",
    "tt = transforms.ToPILImage()\n",
    "\n",
    "device = \"cpu\"\n",
    "if torch.cuda.is_available():\n",
    "    device = \"cuda:0\"\n",
    "print(\"Running on %s\" % device)\n",
    "\n",
    "def label_to_onehot(target, num_classes=10):\n",
    "    target = torch.unsqueeze(target, 1)\n",
    "    onehot_target = torch.zeros(target.size(0), num_classes, device=target.device)\n",
    "    onehot_target.scatter_(1, target, 1)\n",
    "    return onehot_target\n",
    "\n",
    "def cross_entropy_for_onehot(pred, target):\n",
    "    return torch.mean(torch.sum(- target * F.log_softmax(pred, dim=-1), 1))"
   ]
  },
  {
   "cell_type": "code",
   "execution_count": 3,
   "metadata": {
    "colab": {},
    "colab_type": "code",
    "id": "AorI020iVjjS"
   },
   "outputs": [],
   "source": [
    "# def weights_init(m):\n",
    "#     if hasattr(m, \"weight\"):\n",
    "#         m.weight.data.uniform_(-0.5, 0.5)\n",
    "#         nn.init.xavier_uniform_(m.weight.data)\n",
    "#     if hasattr(m, \"bias\"):\n",
    "#         #m.bias.data.uniform_(-0.5, 0.5)\n",
    "#         #nn.init.xavier_uniform(m.bias.data)\n",
    "#         m.bias.data.fill_(0)\n",
    "\n",
    "\n",
    "\n",
    "# class LeNet(nn.Module):\n",
    "\n",
    "#     def __init__(self):\n",
    "\n",
    "#         super(LeNet, self).__init__()\n",
    "#         self.conv1 = nn.Conv2d(3, 6, kernel_size=5,stride=2)\n",
    "#         self.conv2 = nn.Conv2d(6, 16, kernel_size=5, stride=2)\n",
    "#         self.fc1 = nn.Linear(16*5*5, 256)\n",
    "#         self.fc2 = nn.Linear(256, 120)\n",
    "#         self.fc3 = nn.Linear(120, 106)\n",
    "\n",
    "#     def forward(self, x):\n",
    "#         #x = func.relu(self.conv1(x))\n",
    "#         x = func.sigmoid(self.conv1(x))\n",
    "#         #x = func.max_pool2d(x, 2)\n",
    "#         #x = func.relu(self.conv2(x))\n",
    "#         x = func.sigmoid(self.conv2(x))\n",
    "#         #x = func.max_pool2d(x, 2)\n",
    "#         x = x.view(x.size(0), -1)\n",
    "#         #x = func.relu(self.fc1(x))\n",
    "#         x = func.sigmoid(self.fc1(x))\n",
    "#         #x = func.relu(self.fc2(x))\n",
    "#         x = func.sigmoid(self.fc2(x))\n",
    "#         x = self.fc3(x)\n",
    "#         return x\n",
    "\n",
    "    \n",
    "    \n",
    "# def weights_init(m):\n",
    "#     if hasattr(m, \"weight\"):\n",
    "#         m.weight.data.uniform_(-0.3, 0.3)\n",
    "#     if hasattr(m, \"bias\"):\n",
    "#         m.bias.data.uniform_(-0.3, 0.3)\n",
    "\n",
    "\n",
    "def weights_init(m):\n",
    "    if hasattr(m, \"weight\"):\n",
    "        m.weight.data.uniform_(-0.1, 0.1)\n",
    "    if hasattr(m, \"bias\"):\n",
    "        m.bias.data.uniform_(-0.1, 0.1)\n",
    "\n",
    "\n",
    "class LeNet(nn.Module):\n",
    "    def __init__(self):\n",
    "        super(LeNet, self).__init__()\n",
    "        act = nn.Sigmoid\n",
    "        #act = nn.Tanh\n",
    "        #act = nn.ReLU\n",
    "        self.body = nn.Sequential(\n",
    "            nn.Conv2d(3, 256, kernel_size=5, padding=5//2, stride=2),\n",
    "            act(),\n",
    "            nn.Conv2d(256, 256, kernel_size=5, padding=5//2, stride=2),\n",
    "            act(),\n",
    "            nn.Conv2d(256, 256, kernel_size=5, padding=5//2, stride=1),\n",
    "            act(),\n",
    "            nn.Conv2d(256, 256, kernel_size=5, padding=5//2, stride=1),\n",
    "            act(),\n",
    "        )\n",
    "        self.fc = nn.Sequential(\n",
    "            nn.Linear(65536, 106)\n",
    "        )\n",
    "        \n",
    "    def forward(self, x):\n",
    "        out = self.body(x)\n",
    "        out = out.view(out.size(0), -1)\n",
    "        # print(out.size())\n",
    "        out = self.fc(out)\n",
    "        return out\n",
    "\n",
    "    \n",
    "class LeNet_attack(nn.Module):\n",
    "    def __init__(self):\n",
    "        super(LeNet_attack, self).__init__()\n",
    "        act = nn.Sigmoid\n",
    "        #act = nn.Tanh\n",
    "        #act = nn.ReLU\n",
    "        self.body = nn.Sequential(\n",
    "            nn.Conv2d(3, 12, kernel_size=5, padding=5//2, stride=2),\n",
    "            act(),\n",
    "            nn.Conv2d(12, 12, kernel_size=5, padding=5//2, stride=2),\n",
    "            act(),\n",
    "            nn.Conv2d(12, 12, kernel_size=5, padding=5//2, stride=1),\n",
    "            act(),\n",
    "            nn.Conv2d(12, 12, kernel_size=5, padding=5//2, stride=1),\n",
    "            act(),\n",
    "        )\n",
    "        self.fc = nn.Sequential(\n",
    "            nn.Linear(3072, 106)\n",
    "        )\n",
    "        \n",
    "    def forward(self, x):\n",
    "        out = self.body(x)\n",
    "        out = out.view(out.size(0), -1)\n",
    "        # print(out.size())\n",
    "        out = self.fc(out)\n",
    "        return out\n",
    "\n",
    "    \n",
    "    \n",
    "\n",
    "net = LeNet().to(device)\n",
    "#net.apply(weights_init)\n",
    "\n",
    "net1 = LeNet_attack().to(device)\n",
    "net1.apply(weights_init)\n",
    "\n",
    "#criterion = cross_entropy_for_onehot\n",
    "criterion = nn.CrossEntropyLoss()"
   ]
  },
  {
   "cell_type": "code",
   "execution_count": 4,
   "metadata": {
    "colab": {},
    "colab_type": "code",
    "id": "AorI020iVjjS"
   },
   "outputs": [
    {
     "name": "stdout",
     "output_type": "stream",
     "text": [
      "(2801, 64, 64, 3)\n",
      "(934, 64, 64, 3)\n"
     ]
    }
   ],
   "source": [
    "import torchvision.transforms as transforms\n",
    "import torch.optim as optim\n",
    "from torch.autograd import Variable\n",
    "from torch.utils import data\n",
    "\n",
    "from sklearn.datasets import fetch_lfw_people\n",
    "from sklearn.model_selection import train_test_split\n",
    "lfw_people=fetch_lfw_people(min_faces_per_person=14,color=True,slice_=(slice(61,189),slice(61,189)),resize=0.5)\n",
    "x=lfw_people.images\n",
    "y=lfw_people.target\n",
    "\n",
    "target_names=lfw_people.target_names\n",
    "n_classes=target_names.shape[0]\n",
    "\n",
    "X_train, X_test, y_train, y_test = train_test_split(x, y, test_size=0.25,shuffle=False)\n",
    "\n",
    "\n",
    "# #two people\n",
    "# X_train_two = []\n",
    "# y_train_two = []\n",
    "# X_test_two = []\n",
    "# y_test_two = []\n",
    "# for ct_d in range(X_train.shape[0]):\n",
    "#     if  y_train[ct_d] == 6:\n",
    "#         X_train_two.append(X_train[ct_d])\n",
    "#         y_train_two.append(0)\n",
    "#     if  y_train[ct_d] == 9:\n",
    "#         X_train_two.append(X_train[ct_d])\n",
    "#         y_train_two.append(1)\n",
    "        \n",
    "# for ct_d in range(X_test.shape[0]):\n",
    "#     if  y_train[ct_d] == 6:        \n",
    "#         X_test_two.append(X_test[ct_d])\n",
    "#         y_test_two.append(0)\n",
    "#     if  y_train[ct_d] == 9:\n",
    "#         X_test_two.append(X_test[ct_d])\n",
    "#         y_test_two.append(1)\n",
    "        \n",
    "# X_train = np.asarray(X_train_two)    \n",
    "# X_test = np.asarray(X_test_two)  \n",
    "# y_train = np.asarray(y_train_two)  \n",
    "# y_test = np.asarray(y_test_two)  \n",
    "\n",
    "print (X_train.shape)\n",
    "print (X_test.shape)\n",
    "\n",
    "         \n",
    "X_train = X_train.reshape(X_train.shape[0], 64, 64, 3)\n",
    "X_test = X_test.reshape(X_test.shape[0], 64, 64, 3)\n",
    "#X_train = torch.transpose\n",
    "#X_train = X_train.astype('float32')\n",
    "X_train /= 255.0\n",
    "X_test /= 255.0\n",
    "\n",
    " \n",
    "\n",
    "\n",
    "x_train = torch.FloatTensor(X_train).to(device)\n",
    "x_train = x_train.transpose(2,3).transpose(1,2)\n",
    "y_train = torch.LongTensor(y_train).to(device)\n",
    "\n",
    "x_test = torch.FloatTensor(X_test).to(device)\n",
    "x_test = x_test.transpose(2,3).transpose(1,2)\n",
    "y_test = torch.LongTensor(y_test).to(device)\n",
    "\n",
    "\n",
    "training = data.TensorDataset(x_train,y_train)\n",
    "\n",
    "testing = data.TensorDataset(x_test,y_test)\n",
    "\n",
    "dst_tensor=training\n",
    "\n",
    "criterion_train = nn.CrossEntropyLoss()\n",
    "optimizer_train = optim.Adam(net.parameters(),lr=0.01)#,momentum=0.9)\n",
    "trainloader = torch.utils.data.DataLoader(training,batch_size=32, shuffle=True)"
   ]
  },
  {
   "cell_type": "code",
   "execution_count": 5,
   "metadata": {
    "colab": {},
    "colab_type": "code",
    "id": "AorI020iVjjS",
    "scrolled": true
   },
   "outputs": [
    {
     "name": "stdout",
     "output_type": "stream",
     "text": [
      "fininshed training\n",
      "0.007494646680942184\n",
      "fininshed testing\n"
     ]
    }
   ],
   "source": [
    "iter_ = 0\n",
    "for epoch in range(0):\n",
    "\n",
    "    for i,data in enumerate(trainloader,0):\n",
    "   \n",
    "        #if epoch>=1:\n",
    "        if i==1:\n",
    "            #break\n",
    "            iter_=iter_+1\n",
    "            #print (iter_)\n",
    "            inputs,label = data\n",
    "\n",
    "            inputs,label =  Variable(inputs),Variable(label) \n",
    "\n",
    "            optimizer_train.zero_grad()\n",
    "\n",
    "\n",
    "            outputs_benign=net(inputs)\n",
    "            #outputs_benign = F.softmax(outputs_benign, dim=-1)\n",
    "            #print (outputs_benign[0])\n",
    "\n",
    "\n",
    "            loss_benign =  criterion_train(outputs_benign,label)\n",
    "\n",
    "            #print(\"loss computed\")\n",
    "            loss_benign.backward()\n",
    "            #print(\"loss BP\")\n",
    "            optimizer_train.step()\n",
    "\n",
    "            #if i%2000==0:\n",
    "            print (loss_benign.item())\n",
    "            #torch.save(net.state_dict(),'./LFW_net.pth')  \n",
    "       \n",
    "  \n",
    "print ('fininshed training')\n",
    "total = len(y_test)\n",
    "acc =0.0\n",
    "for ct in range(total):\n",
    "    testing_data = tt(testing[ct][0].cpu())\n",
    "    testing_data1 = tp(testing_data).to(device)\n",
    "    testing_data2 = testing_data1.view(1, *testing_data1.size())\n",
    "    y_pred = net(testing_data2)\n",
    "    predicted = torch.argmax(y_pred)\n",
    "  \n",
    "    if predicted == y_test[ct]:\n",
    "        acc=acc+1\n",
    "accuracy = acc / total\n",
    "print (accuracy)\n",
    "print ('fininshed testing')\n"
   ]
  },
  {
   "cell_type": "code",
   "execution_count": 6,
   "metadata": {
    "colab": {
     "base_uri": "https://localhost:8080/",
     "height": 51
    },
    "colab_type": "code",
    "id": "VjKWqs2akepH",
    "outputId": "586bcc5a-f4ea-46ce-b510-edbb20f603ef"
   },
   "outputs": [
    {
     "name": "stdout",
     "output_type": "stream",
     "text": [
      "torch.Size([100, 3, 64, 64])\n",
      "torch.Size([100, 1])\n",
      "torch.Size([100, 106])\n"
     ]
    },
    {
     "data": {
      "image/png": "[encoded data removed]",
      "text/plain": [
       "<Figure size 640x480 with 1 Axes>"
      ]
     },
     "metadata": {},
     "output_type": "display_data"
    }
   ],
   "source": [
    "\n",
    "######### honest partipant #########\n",
    "img_index = 0   #use img_index\n",
    "dst_pil = tt(dst_tensor[img_index][0].cpu())   #use img_index\n",
    "\n",
    "gt_data = tp(dst_pil).to(device)\n",
    "gt_data = torch.unsqueeze(gt_data,0)\n",
    "\n",
    "gt_label = dst_tensor[img_index][1].long().to(device) #use img_index\n",
    "gt_label = gt_label.view(1, )\n",
    "gt_onehot_label = label_to_onehot(gt_label, num_classes=106)\n",
    "\n",
    "plt.imshow(dst_pil)\n",
    "#plt.savefig(\"./original/index_%s_label_%s\"%(img_index,gt_label.item()))\n",
    "\n",
    "\n",
    "\n",
    "batch = 100  #\n",
    "for bat in range(batch-1):\n",
    "    dst_pil = tt(dst_tensor[img_index+1+bat][0].cpu())   #use img_index\n",
    "    tmp = torch.unsqueeze(tp(dst_pil).to(device),0)\n",
    "    #print(tmp.shape)\n",
    "    gt_data = torch.cat((gt_data,tmp),0)\n",
    "    \n",
    "    gt_label_tmp = dst_tensor[img_index+1+bat][1].long().to(device) #use img_index\n",
    "    gt_label_tmp = gt_label_tmp.view(1, )\n",
    "    gt_label = torch.cat((gt_label,gt_label_tmp),0)\n",
    "    gt_onehot_label = torch.cat((gt_onehot_label,label_to_onehot(gt_label_tmp, num_classes=106)),0)\n",
    "\n",
    "    plt.imshow(dst_pil)\n",
    "    #plt.savefig(\"./original/index_%s_label_%s\"%(bat+1,gt_label_tmp.item()))\n",
    "    \n",
    "    #plt.title(\"Ground truth image\")\n",
    "    #print(\"GT label is %d.\" % gt_label.item(), \"\\nOnehot label is %d.\" % torch.argmax(gt_onehot_label, dim=-1).item())\n",
    "\n",
    "    \n",
    "gt_label = torch.reshape(gt_label,(-1,1))    \n",
    "print (gt_data.shape)\n",
    "print (gt_label.shape)\n",
    "print (gt_onehot_label.shape)\n",
    "\n",
    "\n",
    "# compute original gradient \n",
    "dy_dx = []\n",
    "original_dy_dx=[]\n",
    "original_pred = []\n",
    "for item in range(batch):\n",
    "    gt_data_single = torch.unsqueeze(gt_data[item],0)\n",
    "    out = net(gt_data_single)\n",
    "    #y = criterion(out, gt_onehot_label[item])\n",
    "    y = criterion(out, gt_label[item])\n",
    "    dy_dx = torch.autograd.grad(y, net.parameters(),retain_graph=True)\n",
    "    original_dy_dx_tmp = list((_.detach().clone() for _ in dy_dx))\n",
    "    original_dy_dx.append(original_dy_dx_tmp)\n",
    "    out_tmp = out.detach().clone()\n",
    "    original_pred.append(out_tmp)\n",
    "    \n",
    "    \n",
    "    #dy_dx.append(torch.autograd.grad(y, net.parameters()))\n",
    "\n",
    "    \n",
    "    \n",
    "# #FOR fully-connected model only\n",
    "#     dw = net.body[0].weight\n",
    "#     db = net.body[0].bias\n",
    "#     dy_dw = torch.autograd.grad(y, dw,retain_graph=True)\n",
    "#     dy_db = torch.autograd.grad(y, db,retain_graph=True)\n",
    "\n",
    "#     print (dy_dw)\n",
    "#     #print (dy_db.shape)\n",
    "\n",
    "#     leak=dy_dw/dy_db\n",
    "\n",
    "#     print (leak.shape)\n",
    "    \n",
    "\n",
    "\n",
    "# share the gradients with other clients\n",
    "#original_dy_dx = list((_.detach().clone() for _ in dy_dx))\n"
   ]
  },
  {
   "cell_type": "code",
   "execution_count": 8,
   "metadata": {
    "colab": {
     "base_uri": "https://localhost:8080/",
     "height": 298
    },
    "colab_type": "code",
    "id": "jWIbBjVPVLeq",
    "outputId": "4f24add4-1cbd-40a9-ba8d-70fefd9e1590"
   },
   "outputs": [
    {
     "name": "stdout",
     "output_type": "stream",
     "text": [
      "Dummy label is 59.\n",
      "stolen label is 90.\n",
      "0.670233441889286\n",
      "Dummy label is 59.\n",
      "stolen label is 89.\n",
      "0.7189175643026828\n",
      "Dummy label is 59.\n",
      "stolen label is 47.\n",
      "0.7232377961277962\n",
      "Dummy label is 59.\n",
      "stolen label is 92.\n",
      "0.719640652090311\n",
      "Dummy label is 59.\n",
      "stolen label is 16.\n",
      "0.7154821187257767\n",
      "Dummy label is 59.\n",
      "stolen label is 90.\n",
      "0.7142802760004997\n",
      "Dummy label is 59.\n",
      "stolen label is 6.\n",
      "0.7105173759162426\n",
      "Dummy label is 59.\n",
      "stolen label is 99.\n",
      "0.7198292143642903\n",
      "Dummy label is 59.\n",
      "stolen label is 89.\n",
      "0.7130796439945698\n",
      "Dummy label is 59.\n",
      "stolen label is 47.\n",
      "0.7138803109526635\n",
      "Dummy label is 59.\n",
      "stolen label is 101.\n",
      "0.7229790106415749\n",
      "Dummy label is 59.\n",
      "stolen label is 16.\n",
      "0.7147070817649365\n",
      "Dummy label is 59.\n",
      "stolen label is 25.\n",
      "0.7137029334902764\n",
      "Dummy label is 59.\n",
      "stolen label is 60.\n",
      "0.7205143690109252\n",
      "Dummy label is 59.\n",
      "stolen label is 25.\n",
      "0.7148393258452416\n",
      "Dummy label is 59.\n",
      "stolen label is 70.\n",
      "0.7124505527317524\n",
      "Dummy label is 59.\n",
      "stolen label is 20.\n",
      "0.7223196558654308\n",
      "Dummy label is 59.\n",
      "stolen label is 46.\n",
      "0.7151644371449948\n",
      "Dummy label is 59.\n",
      "stolen label is 12.\n",
      "0.7106600202620029\n",
      "Dummy label is 59.\n",
      "stolen label is 10.\n"
     ]
    },
    {
     "name": "stderr",
     "output_type": "stream",
     "text": [
      "/tmp/ipykernel_1427063/327054022.py:141: RuntimeWarning: More than 20 figures have been opened. Figures created through the pyplot interface (`matplotlib.pyplot.figure`) are retained until explicitly closed and may consume too much memory. (To control this warning, see the rcParam `figure.max_open_warning`). Consider using `matplotlib.pyplot.close()`.\n",
      "  plt.figure(figsize=(18, 12))\n"
     ]
    },
    {
     "name": "stdout",
     "output_type": "stream",
     "text": [
      "0.719352626055479\n",
      "Dummy label is 59.\n",
      "stolen label is 26.\n",
      "0.7140113614499569\n",
      "Dummy label is 59.\n",
      "stolen label is 25.\n",
      "0.712372712790966\n",
      "Dummy label is 59.\n",
      "stolen label is 99.\n",
      "0.764958356320858\n",
      "Dummy label is 59.\n",
      "stolen label is 16.\n",
      "0.7652979597449303\n",
      "Dummy label is 59.\n",
      "stolen label is 35.\n",
      "0.7625229924917221\n",
      "Dummy label is 59.\n",
      "stolen label is 75.\n",
      "0.7702445216476917\n",
      "Dummy label is 59.\n",
      "stolen label is 91.\n",
      "0.7662940710783005\n",
      "Dummy label is 59.\n",
      "stolen label is 37.\n",
      "0.7645079821348191\n",
      "Dummy label is 59.\n",
      "stolen label is 21.\n",
      "0.7744908131659031\n",
      "Dummy label is 59.\n",
      "stolen label is 7.\n",
      "0.7652395159006119\n",
      "Dummy label is 59.\n",
      "stolen label is 36.\n",
      "0.7639236107468605\n",
      "Dummy label is 59.\n",
      "stolen label is 32.\n",
      "0.7698526747524739\n",
      "Dummy label is 59.\n",
      "stolen label is 25.\n",
      "0.7643572896718979\n",
      "Dummy label is 59.\n",
      "stolen label is 65.\n",
      "0.7604099787771702\n",
      "Dummy label is 59.\n",
      "stolen label is 50.\n",
      "0.7730311959981918\n",
      "Dummy label is 59.\n",
      "stolen label is 83.\n",
      "0.765528953820467\n",
      "Dummy label is 59.\n",
      "stolen label is 21.\n",
      "0.7642778046429157\n",
      "Dummy label is 59.\n",
      "stolen label is 25.\n",
      "0.7756031684577465\n",
      "Dummy label is 59.\n",
      "stolen label is 26.\n",
      "0.7629973091185093\n",
      "Dummy label is 59.\n",
      "stolen label is 64.\n",
      "0.7600352399051189\n",
      "Dummy label is 59.\n",
      "stolen label is 27.\n",
      "0.7679205112159252\n",
      "Dummy label is 59.\n",
      "stolen label is 26.\n",
      "0.7610846273601055\n",
      "Dummy label is 59.\n",
      "stolen label is 62.\n",
      "0.7604874834418297\n",
      "Dummy label is 59.\n",
      "stolen label is 25.\n",
      "0.7743997290730477\n",
      "Dummy label is 59.\n",
      "stolen label is 25.\n",
      "0.767462781816721\n",
      "Dummy label is 59.\n",
      "stolen label is 25.\n",
      "0.7665753312408924\n",
      "Dummy label is 59.\n",
      "stolen label is 50.\n",
      "0.7690507970750332\n",
      "Dummy label is 59.\n",
      "stolen label is 69.\n",
      "0.767831564694643\n",
      "Dummy label is 59.\n",
      "stolen label is 27.\n",
      "0.7617040902376175\n",
      "Dummy label is 59.\n",
      "stolen label is 76.\n",
      "0.7703757084906101\n",
      "Dummy label is 59.\n",
      "stolen label is 16.\n",
      "0.7594996429979801\n",
      "Dummy label is 59.\n",
      "stolen label is 15.\n",
      "0.7639492563903332\n",
      "Dummy label is 59.\n",
      "stolen label is 25.\n",
      "0.7746537685394287\n",
      "Dummy label is 59.\n",
      "stolen label is 42.\n",
      "0.7652210548520089\n",
      "Dummy label is 59.\n",
      "stolen label is 7.\n",
      "0.7644136562943459\n",
      "Dummy label is 59.\n",
      "stolen label is 4.\n",
      "0.7718523308634758\n",
      "Dummy label is 59.\n",
      "stolen label is 37.\n",
      "0.7664973221719265\n",
      "Dummy label is 59.\n",
      "stolen label is 1.\n",
      "0.7666646845638752\n",
      "Dummy label is 59.\n",
      "stolen label is 79.\n",
      "0.7721208222210407\n",
      "Dummy label is 59.\n",
      "stolen label is 3.\n",
      "0.7622354216873646\n",
      "Dummy label is 59.\n",
      "stolen label is 25.\n",
      "0.7606387928128242\n",
      "Dummy label is 59.\n",
      "stolen label is 21.\n",
      "0.7733400769531726\n",
      "Dummy label is 59.\n",
      "stolen label is 87.\n",
      "0.7643370695412159\n",
      "Dummy label is 59.\n",
      "stolen label is 16.\n",
      "0.761620482057333\n",
      "Dummy label is 59.\n",
      "stolen label is 88.\n",
      "0.7714285418391228\n",
      "Dummy label is 59.\n",
      "stolen label is 88.\n",
      "0.7640492014586926\n",
      "Dummy label is 59.\n",
      "stolen label is 19.\n",
      "0.7633919663727283\n",
      "Dummy label is 59.\n",
      "stolen label is 35.\n",
      "0.773214828968048\n",
      "Dummy label is 59.\n",
      "stolen label is 19.\n",
      "0.7157778240740299\n",
      "Dummy label is 59.\n",
      "stolen label is 0.\n",
      "0.7127757616341114\n",
      "Dummy label is 59.\n",
      "stolen label is 27.\n",
      "0.7209661766886711\n",
      "Dummy label is 59.\n",
      "stolen label is 54.\n",
      "0.7157450906932354\n",
      "Dummy label is 59.\n",
      "stolen label is 63.\n",
      "0.7141860626637936\n",
      "Dummy label is 59.\n",
      "stolen label is 25.\n",
      "0.7215062908828258\n",
      "Dummy label is 59.\n",
      "stolen label is 6.\n",
      "0.7172180205583573\n",
      "Dummy label is 59.\n",
      "stolen label is 57.\n",
      "0.7145430952310562\n",
      "Dummy label is 59.\n",
      "stolen label is 89.\n",
      "0.7232021197676659\n",
      "Dummy label is 59.\n",
      "stolen label is 41.\n",
      "0.7172232806682587\n",
      "Dummy label is 59.\n",
      "stolen label is 103.\n",
      "0.7143027529120445\n",
      "Dummy label is 59.\n",
      "stolen label is 31.\n",
      "0.7233633056282998\n",
      "Dummy label is 59.\n",
      "stolen label is 20.\n",
      "0.7145289413630962\n",
      "Dummy label is 59.\n",
      "stolen label is 103.\n",
      "0.7112497553229332\n",
      "Dummy label is 59.\n",
      "stolen label is 35.\n",
      "0.7214846633374691\n",
      "Dummy label is 59.\n",
      "stolen label is 65.\n",
      "0.7149417065083981\n",
      "Dummy label is 59.\n",
      "stolen label is 22.\n",
      "0.713044386357069\n",
      "Dummy label is 59.\n",
      "stolen label is 21.\n",
      "0.7186309039592743\n",
      "Dummy label is 59.\n",
      "stolen label is 43.\n",
      "0.7145907431840897\n",
      "Dummy label is 59.\n",
      "stolen label is 25.\n",
      "0.710475730150938\n",
      "Dummy label is 59.\n",
      "stolen label is 4.\n",
      "0.7220144733786583\n",
      "Dummy label is 59.\n",
      "stolen label is 17.\n",
      "0.7202073365449906\n",
      "Dummy label is 59.\n",
      "stolen label is 7.\n",
      "0.7169922582805157\n",
      "Dummy label is 59.\n",
      "stolen label is 25.\n",
      "0.7153109937906266\n",
      "Dummy label is 59.\n",
      "stolen label is 0.\n",
      "0.7238147020339966\n",
      "Dummy label is 59.\n",
      "stolen label is 45.\n",
      "0.7147532552480698\n",
      "Dummy label is 59.\n",
      "stolen label is 65.\n",
      "0.7134240455925465\n",
      "Dummy label is 59.\n",
      "stolen label is 27.\n",
      "0.7250492393970489\n",
      "Dummy label is 59.\n",
      "stolen label is 25.\n",
      "0.7181337013840675\n",
      "Dummy label is 59.\n",
      "stolen label is 8.\n",
      "0.7163142748177052\n",
      "Dummy label is 59.\n",
      "stolen label is 16.\n",
      "0.7102157562971115\n",
      "Dummy label is 59.\n",
      "stolen label is 58.\n",
      "0.7214305743575096\n"
     ]
    },
    {
     "data": {
      "text/plain": [
       "<Figure size 640x480 with 0 Axes>"
      ]
     },
     "metadata": {},
     "output_type": "display_data"
    },
    {
     "data": {
      "text/plain": [
       "<Figure size 1800x1200 with 0 Axes>"
      ]
     },
     "metadata": {},
     "output_type": "display_data"
    },
    {
     "data": {
      "text/plain": [
       "<Figure size 1800x1200 with 0 Axes>"
      ]
     },
     "metadata": {},
     "output_type": "display_data"
    },
    {
     "data": {
      "text/plain": [
       "<Figure size 1800x1200 with 0 Axes>"
      ]
     },
     "metadata": {},
     "output_type": "display_data"
    },
    {
     "data": {
      "text/plain": [
       "<Figure size 1800x1200 with 0 Axes>"
      ]
     },
     "metadata": {},
     "output_type": "display_data"
    },
    {
     "data": {
      "text/plain": [
       "<Figure size 1800x1200 with 0 Axes>"
      ]
     },
     "metadata": {},
     "output_type": "display_data"
    },
    {
     "data": {
      "text/plain": [
       "<Figure size 1800x1200 with 0 Axes>"
      ]
     },
     "metadata": {},
     "output_type": "display_data"
    },
    {
     "data": {
      "text/plain": [
       "<Figure size 1800x1200 with 0 Axes>"
      ]
     },
     "metadata": {},
     "output_type": "display_data"
    },
    {
     "data": {
      "text/plain": [
       "<Figure size 1800x1200 with 0 Axes>"
      ]
     },
     "metadata": {},
     "output_type": "display_data"
    },
    {
     "data": {
      "text/plain": [
       "<Figure size 1800x1200 with 0 Axes>"
      ]
     },
     "metadata": {},
     "output_type": "display_data"
    },
    {
     "data": {
      "text/plain": [
       "<Figure size 1800x1200 with 0 Axes>"
      ]
     },
     "metadata": {},
     "output_type": "display_data"
    },
    {
     "data": {
      "text/plain": [
       "<Figure size 1800x1200 with 0 Axes>"
      ]
     },
     "metadata": {},
     "output_type": "display_data"
    },
    {
     "data": {
      "text/plain": [
       "<Figure size 1800x1200 with 0 Axes>"
      ]
     },
     "metadata": {},
     "output_type": "display_data"
    },
    {
     "data": {
      "text/plain": [
       "<Figure size 1800x1200 with 0 Axes>"
      ]
     },
     "metadata": {},
     "output_type": "display_data"
    },
    {
     "data": {
      "text/plain": [
       "<Figure size 1800x1200 with 0 Axes>"
      ]
     },
     "metadata": {},
     "output_type": "display_data"
    },
    {
     "data": {
      "text/plain": [
       "<Figure size 1800x1200 with 0 Axes>"
      ]
     },
     "metadata": {},
     "output_type": "display_data"
    },
    {
     "data": {
      "text/plain": [
       "<Figure size 1800x1200 with 0 Axes>"
      ]
     },
     "metadata": {},
     "output_type": "display_data"
    },
    {
     "data": {
      "text/plain": [
       "<Figure size 1800x1200 with 0 Axes>"
      ]
     },
     "metadata": {},
     "output_type": "display_data"
    },
    {
     "data": {
      "text/plain": [
       "<Figure size 1800x1200 with 0 Axes>"
      ]
     },
     "metadata": {},
     "output_type": "display_data"
    },
    {
     "data": {
      "text/plain": [
       "<Figure size 1800x1200 with 0 Axes>"
      ]
     },
     "metadata": {},
     "output_type": "display_data"
    },
    {
     "data": {
      "text/plain": [
       "<Figure size 1800x1200 with 0 Axes>"
      ]
     },
     "metadata": {},
     "output_type": "display_data"
    },
    {
     "data": {
      "text/plain": [
       "<Figure size 1800x1200 with 0 Axes>"
      ]
     },
     "metadata": {},
     "output_type": "display_data"
    },
    {
     "data": {
      "text/plain": [
       "<Figure size 1800x1200 with 0 Axes>"
      ]
     },
     "metadata": {},
     "output_type": "display_data"
    },
    {
     "data": {
      "text/plain": [
       "<Figure size 1800x1200 with 0 Axes>"
      ]
     },
     "metadata": {},
     "output_type": "display_data"
    },
    {
     "data": {
      "text/plain": [
       "<Figure size 1800x1200 with 0 Axes>"
      ]
     },
     "metadata": {},
     "output_type": "display_data"
    },
    {
     "data": {
      "text/plain": [
       "<Figure size 1800x1200 with 0 Axes>"
      ]
     },
     "metadata": {},
     "output_type": "display_data"
    },
    {
     "data": {
      "text/plain": [
       "<Figure size 1800x1200 with 0 Axes>"
      ]
     },
     "metadata": {},
     "output_type": "display_data"
    },
    {
     "data": {
      "text/plain": [
       "<Figure size 1800x1200 with 0 Axes>"
      ]
     },
     "metadata": {},
     "output_type": "display_data"
    },
    {
     "data": {
      "text/plain": [
       "<Figure size 1800x1200 with 0 Axes>"
      ]
     },
     "metadata": {},
     "output_type": "display_data"
    },
    {
     "data": {
      "text/plain": [
       "<Figure size 1800x1200 with 0 Axes>"
      ]
     },
     "metadata": {},
     "output_type": "display_data"
    },
    {
     "data": {
      "text/plain": [
       "<Figure size 1800x1200 with 0 Axes>"
      ]
     },
     "metadata": {},
     "output_type": "display_data"
    },
    {
     "data": {
      "text/plain": [
       "<Figure size 1800x1200 with 0 Axes>"
      ]
     },
     "metadata": {},
     "output_type": "display_data"
    },
    {
     "data": {
      "text/plain": [
       "<Figure size 1800x1200 with 0 Axes>"
      ]
     },
     "metadata": {},
     "output_type": "display_data"
    },
    {
     "data": {
      "text/plain": [
       "<Figure size 1800x1200 with 0 Axes>"
      ]
     },
     "metadata": {},
     "output_type": "display_data"
    },
    {
     "data": {
      "text/plain": [
       "<Figure size 1800x1200 with 0 Axes>"
      ]
     },
     "metadata": {},
     "output_type": "display_data"
    },
    {
     "data": {
      "text/plain": [
       "<Figure size 1800x1200 with 0 Axes>"
      ]
     },
     "metadata": {},
     "output_type": "display_data"
    },
    {
     "data": {
      "text/plain": [
       "<Figure size 1800x1200 with 0 Axes>"
      ]
     },
     "metadata": {},
     "output_type": "display_data"
    },
    {
     "data": {
      "text/plain": [
       "<Figure size 1800x1200 with 0 Axes>"
      ]
     },
     "metadata": {},
     "output_type": "display_data"
    },
    {
     "data": {
      "text/plain": [
       "<Figure size 1800x1200 with 0 Axes>"
      ]
     },
     "metadata": {},
     "output_type": "display_data"
    },
    {
     "data": {
      "text/plain": [
       "<Figure size 1800x1200 with 0 Axes>"
      ]
     },
     "metadata": {},
     "output_type": "display_data"
    },
    {
     "data": {
      "text/plain": [
       "<Figure size 1800x1200 with 0 Axes>"
      ]
     },
     "metadata": {},
     "output_type": "display_data"
    },
    {
     "data": {
      "text/plain": [
       "<Figure size 1800x1200 with 0 Axes>"
      ]
     },
     "metadata": {},
     "output_type": "display_data"
    },
    {
     "data": {
      "text/plain": [
       "<Figure size 1800x1200 with 0 Axes>"
      ]
     },
     "metadata": {},
     "output_type": "display_data"
    },
    {
     "data": {
      "text/plain": [
       "<Figure size 1800x1200 with 0 Axes>"
      ]
     },
     "metadata": {},
     "output_type": "display_data"
    },
    {
     "data": {
      "text/plain": [
       "<Figure size 1800x1200 with 0 Axes>"
      ]
     },
     "metadata": {},
     "output_type": "display_data"
    },
    {
     "data": {
      "text/plain": [
       "<Figure size 1800x1200 with 0 Axes>"
      ]
     },
     "metadata": {},
     "output_type": "display_data"
    },
    {
     "data": {
      "text/plain": [
       "<Figure size 1800x1200 with 0 Axes>"
      ]
     },
     "metadata": {},
     "output_type": "display_data"
    },
    {
     "data": {
      "text/plain": [
       "<Figure size 1800x1200 with 0 Axes>"
      ]
     },
     "metadata": {},
     "output_type": "display_data"
    },
    {
     "data": {
      "text/plain": [
       "<Figure size 1800x1200 with 0 Axes>"
      ]
     },
     "metadata": {},
     "output_type": "display_data"
    },
    {
     "data": {
      "text/plain": [
       "<Figure size 1800x1200 with 0 Axes>"
      ]
     },
     "metadata": {},
     "output_type": "display_data"
    },
    {
     "data": {
      "text/plain": [
       "<Figure size 1800x1200 with 0 Axes>"
      ]
     },
     "metadata": {},
     "output_type": "display_data"
    },
    {
     "data": {
      "text/plain": [
       "<Figure size 1800x1200 with 0 Axes>"
      ]
     },
     "metadata": {},
     "output_type": "display_data"
    },
    {
     "data": {
      "text/plain": [
       "<Figure size 1800x1200 with 0 Axes>"
      ]
     },
     "metadata": {},
     "output_type": "display_data"
    },
    {
     "data": {
      "text/plain": [
       "<Figure size 1800x1200 with 0 Axes>"
      ]
     },
     "metadata": {},
     "output_type": "display_data"
    },
    {
     "data": {
      "text/plain": [
       "<Figure size 1800x1200 with 0 Axes>"
      ]
     },
     "metadata": {},
     "output_type": "display_data"
    },
    {
     "data": {
      "text/plain": [
       "<Figure size 1800x1200 with 0 Axes>"
      ]
     },
     "metadata": {},
     "output_type": "display_data"
    },
    {
     "data": {
      "text/plain": [
       "<Figure size 1800x1200 with 0 Axes>"
      ]
     },
     "metadata": {},
     "output_type": "display_data"
    },
    {
     "data": {
      "text/plain": [
       "<Figure size 1800x1200 with 0 Axes>"
      ]
     },
     "metadata": {},
     "output_type": "display_data"
    },
    {
     "data": {
      "text/plain": [
       "<Figure size 1800x1200 with 0 Axes>"
      ]
     },
     "metadata": {},
     "output_type": "display_data"
    },
    {
     "data": {
      "text/plain": [
       "<Figure size 1800x1200 with 0 Axes>"
      ]
     },
     "metadata": {},
     "output_type": "display_data"
    },
    {
     "data": {
      "text/plain": [
       "<Figure size 1800x1200 with 0 Axes>"
      ]
     },
     "metadata": {},
     "output_type": "display_data"
    },
    {
     "data": {
      "text/plain": [
       "<Figure size 1800x1200 with 0 Axes>"
      ]
     },
     "metadata": {},
     "output_type": "display_data"
    },
    {
     "data": {
      "text/plain": [
       "<Figure size 1800x1200 with 0 Axes>"
      ]
     },
     "metadata": {},
     "output_type": "display_data"
    },
    {
     "data": {
      "text/plain": [
       "<Figure size 1800x1200 with 0 Axes>"
      ]
     },
     "metadata": {},
     "output_type": "display_data"
    },
    {
     "data": {
      "text/plain": [
       "<Figure size 1800x1200 with 0 Axes>"
      ]
     },
     "metadata": {},
     "output_type": "display_data"
    },
    {
     "data": {
      "text/plain": [
       "<Figure size 1800x1200 with 0 Axes>"
      ]
     },
     "metadata": {},
     "output_type": "display_data"
    },
    {
     "data": {
      "text/plain": [
       "<Figure size 1800x1200 with 0 Axes>"
      ]
     },
     "metadata": {},
     "output_type": "display_data"
    },
    {
     "data": {
      "text/plain": [
       "<Figure size 1800x1200 with 0 Axes>"
      ]
     },
     "metadata": {},
     "output_type": "display_data"
    },
    {
     "data": {
      "text/plain": [
       "<Figure size 1800x1200 with 0 Axes>"
      ]
     },
     "metadata": {},
     "output_type": "display_data"
    },
    {
     "data": {
      "text/plain": [
       "<Figure size 1800x1200 with 0 Axes>"
      ]
     },
     "metadata": {},
     "output_type": "display_data"
    },
    {
     "data": {
      "text/plain": [
       "<Figure size 1800x1200 with 0 Axes>"
      ]
     },
     "metadata": {},
     "output_type": "display_data"
    },
    {
     "data": {
      "text/plain": [
       "<Figure size 1800x1200 with 0 Axes>"
      ]
     },
     "metadata": {},
     "output_type": "display_data"
    },
    {
     "data": {
      "text/plain": [
       "<Figure size 1800x1200 with 0 Axes>"
      ]
     },
     "metadata": {},
     "output_type": "display_data"
    },
    {
     "data": {
      "text/plain": [
       "<Figure size 1800x1200 with 0 Axes>"
      ]
     },
     "metadata": {},
     "output_type": "display_data"
    },
    {
     "data": {
      "text/plain": [
       "<Figure size 1800x1200 with 0 Axes>"
      ]
     },
     "metadata": {},
     "output_type": "display_data"
    },
    {
     "data": {
      "text/plain": [
       "<Figure size 1800x1200 with 0 Axes>"
      ]
     },
     "metadata": {},
     "output_type": "display_data"
    },
    {
     "data": {
      "text/plain": [
       "<Figure size 1800x1200 with 0 Axes>"
      ]
     },
     "metadata": {},
     "output_type": "display_data"
    },
    {
     "data": {
      "text/plain": [
       "<Figure size 1800x1200 with 0 Axes>"
      ]
     },
     "metadata": {},
     "output_type": "display_data"
    },
    {
     "data": {
      "text/plain": [
       "<Figure size 1800x1200 with 0 Axes>"
      ]
     },
     "metadata": {},
     "output_type": "display_data"
    },
    {
     "data": {
      "text/plain": [
       "<Figure size 1800x1200 with 0 Axes>"
      ]
     },
     "metadata": {},
     "output_type": "display_data"
    },
    {
     "data": {
      "text/plain": [
       "<Figure size 1800x1200 with 0 Axes>"
      ]
     },
     "metadata": {},
     "output_type": "display_data"
    },
    {
     "data": {
      "text/plain": [
       "<Figure size 1800x1200 with 0 Axes>"
      ]
     },
     "metadata": {},
     "output_type": "display_data"
    },
    {
     "data": {
      "text/plain": [
       "<Figure size 1800x1200 with 0 Axes>"
      ]
     },
     "metadata": {},
     "output_type": "display_data"
    },
    {
     "data": {
      "text/plain": [
       "<Figure size 1800x1200 with 0 Axes>"
      ]
     },
     "metadata": {},
     "output_type": "display_data"
    },
    {
     "data": {
      "text/plain": [
       "<Figure size 1800x1200 with 0 Axes>"
      ]
     },
     "metadata": {},
     "output_type": "display_data"
    },
    {
     "data": {
      "text/plain": [
       "<Figure size 1800x1200 with 0 Axes>"
      ]
     },
     "metadata": {},
     "output_type": "display_data"
    },
    {
     "data": {
      "text/plain": [
       "<Figure size 1800x1200 with 0 Axes>"
      ]
     },
     "metadata": {},
     "output_type": "display_data"
    },
    {
     "data": {
      "text/plain": [
       "<Figure size 1800x1200 with 0 Axes>"
      ]
     },
     "metadata": {},
     "output_type": "display_data"
    },
    {
     "data": {
      "text/plain": [
       "<Figure size 1800x1200 with 0 Axes>"
      ]
     },
     "metadata": {},
     "output_type": "display_data"
    },
    {
     "data": {
      "text/plain": [
       "<Figure size 1800x1200 with 0 Axes>"
      ]
     },
     "metadata": {},
     "output_type": "display_data"
    },
    {
     "data": {
      "text/plain": [
       "<Figure size 1800x1200 with 0 Axes>"
      ]
     },
     "metadata": {},
     "output_type": "display_data"
    },
    {
     "data": {
      "text/plain": [
       "<Figure size 1800x1200 with 0 Axes>"
      ]
     },
     "metadata": {},
     "output_type": "display_data"
    },
    {
     "data": {
      "text/plain": [
       "<Figure size 1800x1200 with 0 Axes>"
      ]
     },
     "metadata": {},
     "output_type": "display_data"
    },
    {
     "data": {
      "text/plain": [
       "<Figure size 1800x1200 with 0 Axes>"
      ]
     },
     "metadata": {},
     "output_type": "display_data"
    },
    {
     "data": {
      "text/plain": [
       "<Figure size 1800x1200 with 0 Axes>"
      ]
     },
     "metadata": {},
     "output_type": "display_data"
    },
    {
     "data": {
      "text/plain": [
       "<Figure size 1800x1200 with 0 Axes>"
      ]
     },
     "metadata": {},
     "output_type": "display_data"
    },
    {
     "data": {
      "text/plain": [
       "<Figure size 1800x1200 with 0 Axes>"
      ]
     },
     "metadata": {},
     "output_type": "display_data"
    },
    {
     "data": {
      "text/plain": [
       "<Figure size 1800x1200 with 0 Axes>"
      ]
     },
     "metadata": {},
     "output_type": "display_data"
    },
    {
     "data": {
      "text/plain": [
       "<Figure size 1800x1200 with 0 Axes>"
      ]
     },
     "metadata": {},
     "output_type": "display_data"
    },
    {
     "data": {
      "text/plain": [
       "<Figure size 1800x1200 with 0 Axes>"
      ]
     },
     "metadata": {},
     "output_type": "display_data"
    },
    {
     "data": {
      "image/png": "[encoded data removed]",
      "text/plain": [
       "<Figure size 1800x1200 with 100 Axes>"
      ]
     },
     "metadata": {},
     "output_type": "display_data"
    }
   ],
   "source": [
    "# generate dummy data and label\n",
    "import time\n",
    " \n",
    "\n",
    "for item in range(100):\n",
    "    start = time.perf_counter()\n",
    "    for rd in range(1):\n",
    "\n",
    "        torch.manual_seed(10*rd)\n",
    "        #dummy_data = torch.unsqueeze(torch.randn(gt_data[item].size()),0).to(device).requires_grad_(True)\n",
    "        \n",
    "        dummy_data = torch.unsqueeze(torch.zeros(gt_data[item].size()),0).to(device).requires_grad_(True)\n",
    "        #dummy_data = torch.unsqueeze(torch.ones(gt_data[item].size()),0).to(device).requires_grad_(True)\n",
    "\n",
    "        #surrogate = torch.unsqueeze(gt_data[item+1],0)\n",
    "        #aaa = torch.rand([3,32,32])\n",
    "        #surrogate[0,:,16:48,16:48] =aaa\n",
    "        #dummy_data = surrogate.to(device).requires_grad_(True)    \n",
    "        \n",
    "        #dummy_data = torch.unsqueeze(gt_data[item+1],0).to(device).requires_grad_(True)\n",
    "        \n",
    "        #k=np.random.randint(0,100)\n",
    "        #dummy_data = torch.unsqueeze(gt_data[k],0).to(device).requires_grad_(True)\n",
    "        \n",
    "        #aaa = torch.rand([3,32,32])\n",
    "        #bbb = torch.cat((aaa,aaa),dim=1)\n",
    "        #ccc = torch.cat((bbb,bbb),dim=2)\n",
    "        #dummy_data = torch.unsqueeze(ccc,dim=0).to(device).requires_grad_(True)\n",
    "        \n",
    "        #background = torch.unsqueeze(torch.zeros(gt_data[item].size()),0)\n",
    "        #background[0,2,::] = 1\n",
    "        #dummy_data = background.to(device).requires_grad_(True)\n",
    "        \n",
    "        \n",
    "        #aaa = torch.rand([3,16,16])\n",
    "        #bbb = torch.cat((aaa,aaa),dim=1)\n",
    "        #ccc = torch.cat((bbb,bbb),dim=1)\n",
    "        #ddd = torch.cat((ccc,ccc),dim=2)\n",
    "        #eee = torch.cat((ddd,ddd),dim=2)\n",
    "        #dummy_data = torch.unsqueeze(eee,dim=0).to(device).requires_grad_(True)\n",
    "        \n",
    "        \n",
    "        #dummy_data = plt.imread(\"./attack_image/replacement_69.png\")\n",
    "        #print (dummy_data.shape)\n",
    "        #dummy_data = torch.FloatTensor(dummy_data).to(device)\n",
    "        #dummy_data = dummy_data.transpose(2,3).transpose(1,2)\n",
    "        \n",
    "        dummy_label = torch.unsqueeze(torch.randn(gt_onehot_label[item].size()),dim=0).to(device).requires_grad_(True)\n",
    "        label_pred=torch.argmin(torch.sum(original_dy_dx[item][-2], dim=-1), dim=-1).detach().reshape((1,)).requires_grad_(False)\n",
    "        #label_pred_onehot = label_to_onehot(label_pred, num_classes=106)\n",
    "\n",
    "        \n",
    "        plt.imshow(tt(dummy_data[0].cpu()))\n",
    "        plt.title(\"Dummy data\")\n",
    "        #plt.savefig(\"./random_seed/index_%s_rand_seed_%s_label_%s\"%(item,rd,torch.argmax(dummy_label, dim=-1).item()))\n",
    "\n",
    "        plt.clf()\n",
    "        print(\"Dummy label is %d.\" % torch.argmax(dummy_label, dim=-1).item())\n",
    "        print(\"stolen label is %d.\" % label_pred.item())\n",
    "        \n",
    "        \n",
    "        #optimizer = torch.optim.LBFGS([dummy_data,])\n",
    "        #optimizer = torch.optim.AdamW([dummy_data,dummy_label],lr=0.01)\n",
    "        optimizer = torch.optim.AdamW([dummy_data],lr=0.01)\n",
    "      \n",
    "       \n",
    "\n",
    "        history = []\n",
    "        for iters in range(1000):\n",
    "           \n",
    "            \n",
    "            def closure():\n",
    "                optimizer.zero_grad()\n",
    "                \n",
    "                dummy_data_clip = torch.clamp(dummy_data,0,1)\n",
    "                pred = net(dummy_data_clip) \n",
    "                dummy_onehot_label = F.softmax(dummy_label, dim=-1)\n",
    "                #print (pred.shape)\n",
    "                #print (dummy_onehot_label)\n",
    "                #dummy_loss = criterion(pred, dummy_onehot_label) # TODO: fix the gt_label to dummy_label in both code and slides.\n",
    "             \n",
    "                dummy_loss = criterion(pred, label_pred)\n",
    "                dummy_dy_dx = torch.autograd.grad(dummy_loss, net.parameters(), create_graph=True)\n",
    "                #dummy_dy_dp = torch.autograd.grad(dummy_loss, dummy_data, create_graph=True)\n",
    "                #print (dummy_dy_dp[0].shape)\n",
    "                \n",
    "                \n",
    "                \n",
    "                \n",
    "\n",
    "                grad_diff = 0\n",
    "                grad_count = 0\n",
    "                count =0\n",
    "                for gx, gy in zip(dummy_dy_dx, original_dy_dx[item]): # TODO: fix the variablas here\n",
    "                   \n",
    "                    #if iters==500 or iters== 1200:\n",
    "                    #print (gx[0])\n",
    "                    #    print ('hahaha')\n",
    "                    #print (gy[0])\n",
    "                    lasso = torch.norm(dummy_data,p=1)\n",
    "                    ridge = torch.norm(dummy_data,p=2)\n",
    "                    grad_diff += ((gx - gy) ** 2).sum() #+ 0.0*lasso +0.01*ridge \n",
    "                    #grad_diff += (torch.abs(original_pred[item]-pred)).sum()\n",
    "\n",
    "                    \n",
    "                    \n",
    "\n",
    "                    grad_count += gx.nelement()\n",
    "                \n",
    "\n",
    "                    if count == 6:\n",
    "                        break\n",
    "                    count=count+1\n",
    "                # grad_diff = grad_diff / grad_count * 1000\n",
    "                grad_diff += ((original_pred[item]-pred)**2).sum()\n",
    "             \n",
    "                \n",
    "                \n",
    "                \n",
    "                grad_diff.backward()\n",
    "                #print (count)\n",
    "\n",
    "                #print (dummy_dy_dx)\n",
    "                #print (original_dy_dx)\n",
    "\n",
    "\n",
    "                return grad_diff\n",
    "\n",
    "\n",
    "\n",
    "            optimizer.step(closure)\n",
    "            if iters % 5 == 0: \n",
    "                current_loss = closure()\n",
    "                #if iters == 0: \n",
    "                #print (\"%.8f\" % current_loss.item())\n",
    "                #print(iters, \"%.8f\" % current_loss.item())\n",
    "            history.append(tt(dummy_data[0].cpu()))\n",
    "\n",
    "        \n",
    "        \n",
    "        plt.figure(figsize=(18, 12))\n",
    "        for i in range(100):\n",
    "           plt.subplot(10, 10, i + 1)\n",
    "           plt.imshow(history[i * 10])\n",
    "           plt.title(\"iter=%d\" % (i * 10))\n",
    "           plt.axis('off')\n",
    "        \n",
    "        #print(\"Dummy label is %d.\" % torch.argmax(dummy_label, dim=-1).item())\n",
    "        #plt.savefig(\"./attack_image/64_index_%s_rand_%s_label_%s\"%(item,rd, label_pred.item()))\n",
    "        #plt.clf()\n",
    "       \n",
    "    duration = time.perf_counter()-start\n",
    "    #print (\"Running time is %.4f.\" %(duration/10.0) )\n",
    "    print (duration/10.0 )\n",
    "    \n",
    "        "
   ]
  },
  {
   "cell_type": "code",
   "execution_count": 9,
   "metadata": {
    "colab": {
     "base_uri": "https://localhost:8080/",
     "height": 428
    },
    "colab_type": "code",
    "id": "aokP-jhal96-",
    "outputId": "595e775a-7f91-49a8-cfaa-384c7a320002"
   },
   "outputs": [
    {
     "name": "stdout",
     "output_type": "stream",
     "text": [
      "Dummy label is 59.\n"
     ]
    },
    {
     "data": {
      "image/png": "[encoded data removed]",
      "text/plain": [
       "<Figure size 1200x800 with 60 Axes>"
      ]
     },
     "metadata": {},
     "output_type": "display_data"
    }
   ],
   "source": [
    "plt.figure(figsize=(12, 8))\n",
    "for i in range(60):\n",
    "  plt.subplot(6, 10, i + 1)\n",
    "  plt.imshow(history[i * 5])\n",
    "  plt.title(\"iter=%d\" % (i * 5))\n",
    "  plt.axis('off')\n",
    "print(\"Dummy label is %d.\" % torch.argmax(dummy_label, dim=-1).item())"
   ]
  },
  {
   "cell_type": "code",
   "execution_count": 10,
   "metadata": {},
   "outputs": [
    {
     "ename": "NameError",
     "evalue": "name 'history_batch' is not defined",
     "output_type": "error",
     "traceback": [
      "\u001b[0;31m---------------------------------------------------------------------------\u001b[0m",
      "\u001b[0;31mNameError\u001b[0m                                 Traceback (most recent call last)",
      "Cell \u001b[0;32mIn[10], line 5\u001b[0m\n\u001b[1;32m      3\u001b[0m \u001b[38;5;28;01mfor\u001b[39;00m i \u001b[38;5;129;01min\u001b[39;00m \u001b[38;5;28mrange\u001b[39m(\u001b[38;5;241m60\u001b[39m):\n\u001b[1;32m      4\u001b[0m   plt\u001b[38;5;241m.\u001b[39msubplot(\u001b[38;5;241m6\u001b[39m, \u001b[38;5;241m10\u001b[39m, i \u001b[38;5;241m+\u001b[39m \u001b[38;5;241m1\u001b[39m)\n\u001b[0;32m----> 5\u001b[0m   plt\u001b[38;5;241m.\u001b[39mimshow(\u001b[43mhistory_batch\u001b[49m[i \u001b[38;5;241m*\u001b[39m \u001b[38;5;241m5\u001b[39m\u001b[38;5;241m+\u001b[39mj])\n\u001b[1;32m      6\u001b[0m   plt\u001b[38;5;241m.\u001b[39mtitle(\u001b[38;5;124m\"\u001b[39m\u001b[38;5;124miter=\u001b[39m\u001b[38;5;132;01m%d\u001b[39;00m\u001b[38;5;124m\"\u001b[39m \u001b[38;5;241m%\u001b[39m (i \u001b[38;5;241m*\u001b[39m \u001b[38;5;241m5\u001b[39m\u001b[38;5;241m+\u001b[39m j))\n\u001b[1;32m      7\u001b[0m   plt\u001b[38;5;241m.\u001b[39maxis(\u001b[38;5;124m'\u001b[39m\u001b[38;5;124moff\u001b[39m\u001b[38;5;124m'\u001b[39m)\n",
      "\u001b[0;31mNameError\u001b[0m: name 'history_batch' is not defined"
     ]
    },
    {
     "data": {
      "image/png": "[encoded data removed]",
      "text/plain": [
       "<Figure size 1200x800 with 1 Axes>"
      ]
     },
     "metadata": {},
     "output_type": "display_data"
    }
   ],
   "source": [
    "plt.figure(figsize=(12, 8))\n",
    "for j in range(batch):\n",
    "    for i in range(60):\n",
    "      plt.subplot(6, 10, i + 1)\n",
    "      plt.imshow(history_batch[i * 5+j])\n",
    "      plt.title(\"iter=%d\" % (i * 5+ j))\n",
    "      plt.axis('off')\n",
    "print(\"Dummy label is %d.\" % torch.argmax(dummy_label, dim=-1).item())"
   ]
  },
  {
   "cell_type": "code",
   "execution_count": null,
   "metadata": {},
   "outputs": [],
   "source": []
  }
 ],
 "metadata": {
  "accelerator": "GPU",
  "colab": {
   "collapsed_sections": [],
   "name": "Deep Leakage from Gradients.ipynb",
   "provenance": []
  },
  "kernelspec": {
   "display_name": "Python 3 (ipykernel)",
   "language": "python",
   "name": "python3"
  },
  "language_info": {
   "codemirror_mode": {
    "name": "ipython",
    "version": 3
   },
   "file_extension": ".py",
   "mimetype": "text/x-python",
   "name": "python",
   "nbconvert_exporter": "python",
   "pygments_lexer": "ipython3",
   "version": "3.9.19"
  }
 },
 "nbformat": 4,
 "nbformat_minor": 1
}
